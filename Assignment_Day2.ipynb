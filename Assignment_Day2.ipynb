{
 "cells": [
  {
   "cell_type": "markdown",
   "metadata": {},
   "source": [
    "# question1"
   ]
  },
  {
   "cell_type": "code",
   "execution_count": 1,
   "metadata": {},
   "outputs": [
    {
     "name": "stdout",
     "output_type": "stream",
     "text": [
      "Enter the elements in list one by one: 1\n",
      "Enter the elements in list one by one: 2\n",
      "Enter the elements in list one by one: 3\n",
      "Enter the elements in list one by one: 4\n",
      "Enter the elements in list one by one: 5\n",
      "Enter the elements in list one by one: 6\n",
      "Enter the elements in list one by one: 7\n",
      "Enter the elements in list one by one: 8\n",
      "Enter the elements in list one by one: 9\n",
      "Enter the elements in list one by one: 10\n",
      "[2, 4, 6, 8, 10]\n"
     ]
    }
   ],
   "source": [
    "l = []\n",
    "for i in range(10):\n",
    "    e = int(input(\"Enter the elements in list one by one: \"))\n",
    "    if e % 2 ==0:\n",
    "        l.append(e)    \n",
    "print(l)"
   ]
  },
  {
   "cell_type": "markdown",
   "metadata": {},
   "source": [
    "# question2"
   ]
  },
  {
   "cell_type": "code",
   "execution_count": 5,
   "metadata": {},
   "outputs": [
    {
     "name": "stdout",
     "output_type": "stream",
     "text": [
      "['Monkey', 'Mut', 'Monk']\n",
      "[2, 4]\n",
      "[1, 4, 9, 16, 25]\n",
      "[2]\n",
      "[1, 2, 3, 4, 5]\n",
      "[1, 2, 3, 4, 5, 6, 7, 8, 9]\n"
     ]
    }
   ],
   "source": [
    "\n",
    "\n",
    "#To create a new list from existing list with certain name\n",
    "num = ['Monkey','Hen','Donkey','Mut','Pot','Monk']\n",
    "new_list = [i for i in num if \"M\" in i]\n",
    "print(new_list)\n",
    "\n",
    "\n",
    "#find common numbers from two lists using for loop\n",
    "list_1 = [1,2,3,4]\n",
    "list_2 = [2,4,6,7]\n",
    "l = []\n",
    "for a in list_1:\n",
    "    for b in list_2:\n",
    "        if a == b:\n",
    "            l.append(a)\n",
    "print(l)\n",
    "#Finding squares using list comprehensions\n",
    "numbers=[1,2,3,4,5]\n",
    "l = []\n",
    "for i in numbers:\n",
    "    a = i**2\n",
    "    l.append(a)\n",
    "print(l)\n",
    "    \n",
    "#slicing\n",
    "num = [1,2,3,4,5,6,7,8,9]\n",
    "print(num[1:2])\n",
    "print(num[:5])\n",
    "print(num[:])\n",
    "\n",
    "\n"
   ]
  },
  {
   "cell_type": "markdown",
   "metadata": {},
   "source": [
    "# question3"
   ]
  },
  {
   "cell_type": "code",
   "execution_count": 2,
   "metadata": {},
   "outputs": [
    {
     "name": "stdout",
     "output_type": "stream",
     "text": [
      "Enter the number to which square is to be found: 4\n",
      "{1: 1, 2: 4, 3: 9, 4: 16}\n"
     ]
    }
   ],
   "source": [
    "n = int(input(\"Enter the number to which square is to be found: \"))\n",
    "d ={i:i*i for i in range(1,n+1)}\n",
    "print(d)"
   ]
  },
  {
   "cell_type": "markdown",
   "metadata": {},
   "source": [
    "# question4"
   ]
  },
  {
   "cell_type": "code",
   "execution_count": 4,
   "metadata": {},
   "outputs": [
    {
     "name": "stdout",
     "output_type": "stream",
     "text": [
      "Enter the number of directions: 4\n",
      "Enter the direction and number of steps seperated by a space: up 5\n",
      "Enter the direction and number of steps seperated by a space: down 3\n",
      "Enter the direction and number of steps seperated by a space: left 3\n",
      "Enter the direction and number of steps seperated by a space: right 2\n",
      "Distance between original and current position is:  2\n"
     ]
    }
   ],
   "source": [
    "import math\n",
    "n = int(input(\"Enter the number of directions: \" ))\n",
    "list = []\n",
    "newlist = []\n",
    "for i in range(n):\n",
    "    a = input(\"Enter the direction and number of steps seperated by a space: \")\n",
    "    list.append(a)\n",
    "for i in list:\n",
    "    b = int(i.split()[1])\n",
    "    newlist.append(b)\n",
    "c = newlist[0]- newlist[1]\n",
    "d = newlist[2] - newlist[3]\n",
    "e = math.sqrt(c*c + d*d)\n",
    "print(\"Distance between original and current position is: \",int(round(e)))"
   ]
  },
  {
   "cell_type": "code",
   "execution_count": null,
   "metadata": {},
   "outputs": [],
   "source": []
  }
 ],
 "metadata": {
  "kernelspec": {
   "display_name": "Python 3",
   "language": "python",
   "name": "python3"
  },
  "language_info": {
   "codemirror_mode": {
    "name": "ipython",
    "version": 3
   },
   "file_extension": ".py",
   "mimetype": "text/x-python",
   "name": "python",
   "nbconvert_exporter": "python",
   "pygments_lexer": "ipython3",
   "version": "3.8.3"
  }
 },
 "nbformat": 4,
 "nbformat_minor": 4
}
